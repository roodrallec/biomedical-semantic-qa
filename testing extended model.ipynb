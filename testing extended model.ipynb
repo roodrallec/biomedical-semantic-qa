{
 "cells": [
  {
   "cell_type": "code",
   "execution_count": 1,
   "metadata": {},
   "outputs": [
    {
     "name": "stderr",
     "output_type": "stream",
     "text": [
      "Using TensorFlow backend.\n"
     ]
    },
    {
     "name": "stdout",
     "output_type": "stream",
     "text": [
      "              precision    recall  f1-score   support\n",
      "\n",
      "     factoid       0.95      0.47      0.63        77\n",
      "        list       0.76      0.93      0.83        40\n",
      "     summary       0.61      0.94      0.74        50\n",
      "       yesno       0.95      1.00      0.98        59\n",
      "\n",
      "   micro avg       0.79      0.79      0.79       226\n",
      "   macro avg       0.82      0.83      0.79       226\n",
      "weighted avg       0.84      0.79      0.78       226\n",
      "\n",
      "{'BATCH_SIZE': 128,\n",
      " 'CROSS_VALIDATION': False,\n",
      " 'DROPOUT': 0.3,\n",
      " 'EPOCHS': 100,\n",
      " 'LEARNING_RATE': 0.001,\n",
      " 'STEM': False,\n",
      " 'TEST_SPLIT': 0.1,\n",
      " 'TRAINABLE_EMBEDDING': False,\n",
      " 'USE_CONV': True,\n",
      " 'USE_W2V_EMBED': True,\n",
      " 'VALIDATION_SPLIT': 0.1,\n",
      " 'WORD2VEC_PARAMS': {'min_count': 5,\n",
      "                     'negative': 5,\n",
      "                     'sg': 0,\n",
      "                     'size': 100,\n",
      "                     'window': 10,\n",
      "                     'workers': 16}}\n"
     ]
    }
   ],
   "source": [
    "import pickle\n",
    "import part_1\n",
    "import os\n",
    "import numpy as np\n",
    "import json\n",
    "import pandas as pd\n",
    "import pprint\n",
    "import re\n",
    "import matplotlib.pyplot as plt\n",
    "%matplotlib inline\n",
    "from keras.preprocessing.sequence import pad_sequences\n",
    "from sklearn.metrics import classification_report\n",
    "\n",
    "\n",
    "def load_pickle(file_path, json_file=False):\n",
    "    with open(file_path, 'rb') as f:\n",
    "        if json_file:\n",
    "            return json.load(f)\n",
    "        else:\n",
    "            return pickle.load(f)\n",
    "\n",
    "\n",
    "def get_score(report, filter_class):\n",
    "    lines = report.split('\\n')\n",
    "    f1_score = False\n",
    "    for line in lines[2:-3]:\n",
    "        row_data = [a for a in line.split(\" \") if a != '']\n",
    "        row_class = row_data[0].strip()\n",
    "        \n",
    "        if  row_class == filter_class: \n",
    "            precision = float(row_data[1])\n",
    "            recall = float(row_data[2])\n",
    "            f1_score = float(row_data[3])\n",
    "            support = float(row_data[3])\n",
    "            break\n",
    "\n",
    "    return [precision, recall, f1_score, support]\n",
    "\n",
    "\n",
    "DIR = \"2019-01-11 17:35:16.028132\"\n",
    "VOCAB = load_pickle(os.path.join('Graphs_datetime', DIR, 'vocab.pickle'))\n",
    "ORIGINAL_MODEL = load_pickle(os.path.join('Graphs_datetime', DIR, 'model.pickle'))\n",
    "ORIGINAL_REPORT = load_pickle(os.path.join('Graphs_datetime', DIR, 'classification_report.pickle'))\n",
    "ORIGINAL_RUNCONFIG = load_pickle(os.path.join('Graphs_datetime', DIR, 'run_config.json'), True)        \n",
    "print(ORIGINAL_REPORT)\n",
    "pprint.pprint(ORIGINAL_RUNCONFIG)"
   ]
  },
  {
   "cell_type": "code",
   "execution_count": 4,
   "metadata": {},
   "outputs": [
    {
     "name": "stdout",
     "output_type": "stream",
     "text": [
      "0 is new best mean_f1.\n",
      "Path:  ./Graph_3/factoid_6000_0.0001_0.3_512/classification_report.pickle\n",
      "0 is new best mean_f1.\n",
      "Path:  ./Graph_3/summary_11000_0.0001_0.5_125/classification_report.pickle\n",
      "0 is new best mean_f1.\n",
      "Path:  ./Graph_3/factoid_11000_0.001_0.3_1024/classification_report.pickle\n",
      "0 is new best mean_f1.\n",
      "Path:  ./Graph_3/summary_1000_0.001_0.7_512/classification_report.pickle\n",
      "0 is new best mean_f1.\n",
      "Path:  ./Graph_3/factoid_22000_0.001_0.5_1024/classification_report.pickle\n",
      "0.09 is new best mean_f1.\n",
      "Path:  ./Graph_3/summary_1000_0.001_0.7_125/classification_report.pickle\n",
      "0 is new best mean_f1.\n",
      "Path:  ./Graph_3/summary_6000_0.01_0.5_1024/classification_report.pickle\n",
      "0.38 is new best mean_f1.\n",
      "Path:  ./Graph_3/factoid_6000_0.0001_0.3_125/classification_report.pickle\n",
      "0.47 is new best mean_f1.\n",
      "Path:  ./Graph_3/summary_6000_0.001_0.5_1024/classification_report.pickle\n",
      "0.62 is new best mean_f1.\n",
      "Path:  ./Graph_3/summary_1000_0.001_0.3_1024/classification_report.pickle\n",
      "0.62 is new best mean_f1.\n",
      "Path:  ./Graph_3/factoid_22000_0.01_0.5_1024/classification_report.pickle\n",
      "0.56 is new best mean_f1.\n",
      "Path:  ./Graph_3/summary_11000_0.0001_0.3_125/classification_report.pickle\n",
      "0.8 is new best mean_f1.\n",
      "Path:  ./Graph_3/summary_1000_0.001_0.3_512/classification_report.pickle\n",
      "0 is new best mean_f1.\n",
      "Path:  ./Graph_3/summary_22000_0.0001_0.3_1024/classification_report.pickle\n",
      "0 is new best mean_f1.\n",
      "Path:  ./Graph_3/factoid_1000_0.01_0.3_512/classification_report.pickle\n",
      "0.72 is new best mean_f1.\n",
      "Path:  ./Graph_3/summary_6000_0.001_0.3_1024/classification_report.pickle\n",
      "0.73 is new best mean_f1.\n",
      "Path:  ./Graph_3/factoid_11000_0.001_0.3_125/classification_report.pickle\n",
      "0.8 is new best mean_f1.\n",
      "Path:  ./Graph_3/factoid_11000_0.001_0.3_512/classification_report.pickle\n",
      "0.79 is new best mean_f1.\n",
      "Path:  ./Graph_3/factoid_1000_0.01_0.3_125/classification_report.pickle\n",
      "0.8 is new best mean_f1.\n",
      "Path:  ./Graph_3/factoid_1000_0.001_0.3_512/classification_report.pickle\n",
      "0.75 is new best mean_f1.\n",
      "Path:  ./Graph_3/summary_6000_0.01_0.3_1024/classification_report.pickle\n",
      "0.8 is new best mean_f1.\n",
      "Path:  ./Graph_3/factoid_1000_0.001_0.3_125/classification_report.pickle\n",
      "0.76 is new best mean_f1.\n",
      "Path:  ./Graph_3/factoid_6000_0.01_0.3_125/classification_report.pickle\n",
      "0.75 is new best mean_f1.\n",
      "Path:  ./Graph_3/summary_11000_0.001_0.3_512/classification_report.pickle\n",
      "0.76 is new best mean_f1.\n",
      "Path:  ./Graph_3/summary_11000_0.001_0.3_125/classification_report.pickle\n",
      "0.82 is new best mean_f1.\n",
      "Path:  ./Graph_3/summary_1000_0.01_0.3_1024/classification_report.pickle\n",
      "0.8 is new best mean_f1.\n",
      "Path:  ./Graph_3/factoid_6000_0.001_0.3_125/classification_report.pickle\n",
      "0.82 is new best mean_f1.\n",
      "Path:  ./Graph_3/factoid_11000_0.01_0.3_125/classification_report.pickle\n",
      "0.77 is new best mean_f1.\n",
      "Path:  ./Graph_3/summary_6000_0.01_0.5_125/classification_report.pickle\n",
      "0.78 is new best mean_f1.\n",
      "Path:  ./Graph_3/summary_6000_0.01_0.5_512/classification_report.pickle\n",
      "0.79 is new best mean_f1.\n",
      "Path:  ./Graph_3/summary_6000_0.01_0.3_125/classification_report.pickle\n",
      "0.79 is new best mean_f1.\n",
      "Path:  ./Graph_3/summary_6000_0.01_0.3_512/classification_report.pickle\n"
     ]
    },
    {
     "data": {
      "text/plain": [
       "{'factoid': {'best_run_mean_f1': [0.82, 0.82, 0.83, 0.83],\n",
       "  'best_run_high_f1': [0.78, 0.78, 0.78, 0.78]},\n",
       " 'summary': {'best_run_mean_f1': [0.82, 0.79, 0.78, 0.4],\n",
       "  'best_run_high_f1': [0.75, 0.71, 0.69, 0.52]}}"
      ]
     },
     "execution_count": 4,
     "metadata": {},
     "output_type": "execute_result"
    }
   ],
   "source": [
    "token_sizes = [1000, 6000, 11000, 22000]\n",
    "aggregates = {\n",
    "    'factoid': {\n",
    "        'best_run_mean_f1': [0, 0, 0, 0],\n",
    "        'best_run_high_f1': [0, 0, 0, 0]\n",
    "    },\n",
    "    'summary': {\n",
    "        'best_run_mean_f1': [0, 0, 0, 0],\n",
    "        'best_run_high_f1': [0, 0, 0, 0]\n",
    "    },\n",
    "}\n",
    "\n",
    "for root, dirs, files in os.walk(\"./Graph_3/\"):\n",
    "\n",
    "    for file in files:\n",
    "        inc_class, xtra_tokens, l_rate, dropout, batch_size = root.split('/')[-1].split('_')\n",
    "        \n",
    "        if 'classification_report.pickle' in file:            \n",
    "            agg_f1_score = []\n",
    "            score_index = token_sizes.index(int(xtra_tokens))\n",
    "            report = load_pickle(os.path.join(root, file))\n",
    "\n",
    "\n",
    "            for line in report.split('\\n')[2:-3]:\n",
    "                row_data = [a for a in line.split(\" \") if a != '']\n",
    "                if len(row_data) == 0:\n",
    "                    break\n",
    "                    \n",
    "                row_class = row_data[0]\n",
    "                precision = float(row_data[1])\n",
    "                recall = float(row_data[2])\n",
    "                f1_score = float(row_data[3])\n",
    "                support = float(row_data[4])                \n",
    "                agg_f1_score.append(f1_score)\n",
    "\n",
    "                if row_class in aggregates.keys():\n",
    "                    best_run_high_f1 = aggregates[inc_class]['best_run_high_f1'][score_index]\n",
    "                    if f1_score >= best_run_high_f1:\n",
    "                        aggregates[inc_class]['best_run_high_f1'][score_index] = np.round(f1_score,2)\n",
    "            \n",
    "            f1_mean = np.mean(agg_f1_score)\n",
    "            best_mean_f1 = aggregates[inc_class]['best_run_mean_f1'][score_index]\n",
    "            if f1_mean >= best_mean_f1:\n",
    "                aggregates[inc_class]['best_run_mean_f1'][score_index] = np.round(f1_mean, 2)                \n",
    "                print(best_mean_f1, \"is new best mean_f1.\")\n",
    "                print(\"Path: \", os.path.join(root, file))\n",
    "\n",
    "aggregates"
   ]
  },
  {
   "cell_type": "code",
   "execution_count": 5,
   "metadata": {},
   "outputs": [
    {
     "name": "stdout",
     "output_type": "stream",
     "text": [
      "Graph 3\n",
      "              precision    recall  f1-score   support\n",
      "\n",
      "     factoid       0.88      0.65      0.75        77\n",
      "        list       0.81      0.88      0.84        40\n",
      "     summary       0.65      0.88      0.75        50\n",
      "       yesno       0.98      0.97      0.97        59\n",
      "\n",
      "   micro avg       0.82      0.82      0.82       226\n",
      "   macro avg       0.83      0.84      0.83       226\n",
      "weighted avg       0.84      0.82      0.82       226\n",
      "\n",
      "Graph 2\n",
      "              precision    recall  f1-score   support\n",
      "\n",
      "     factoid       0.95      0.71      0.81        55\n",
      "        list       0.90      0.83      0.86        53\n",
      "     summary       0.77      0.94      0.85        68\n",
      "       yesno       0.94      1.00      0.97        50\n",
      "\n",
      "   micro avg       0.87      0.87      0.87       226\n",
      "   macro avg       0.89      0.87      0.87       226\n",
      "weighted avg       0.88      0.87      0.87       226\n",
      "\n"
     ]
    }
   ],
   "source": [
    "print(\"Graph 3\")\n",
    "BEST_RUN = load_pickle(\"./Graph_3/factoid_11000_0.01_0.3_125/classification_report.pickle\", False)\n",
    "print(BEST_RUN)\n",
    "print(\"Graph 2\")\n",
    "BEST_GRAPH_2_RUN = load_pickle(\"./Graph_2/summary_1000_0.01_0.3/classification_report.pickle\", False)\n",
    "print(BEST_GRAPH_2_RUN)"
   ]
  },
  {
   "cell_type": "code",
   "execution_count": 6,
   "metadata": {},
   "outputs": [
    {
     "data": {
      "image/png": "[encoded data removed]",
      "text/plain": [
       "<Figure size 360x360 with 1 Axes>"
      ]
     },
     "metadata": {
      "needs_background": "light"
     },
     "output_type": "display_data"
    },
    {
     "data": {
      "image/png": "[encoded data removed]",
      "text/plain": [
       "<Figure size 360x360 with 1 Axes>"
      ]
     },
     "metadata": {
      "needs_background": "light"
     },
     "output_type": "display_data"
    }
   ],
   "source": [
    "original_factoid_f1_score = get_score(ORIGINAL_REPORT, filter_class='factoid')[2]\n",
    "original_mean_f1_score = np.mean(\n",
    "    [get_score(ORIGINAL_REPORT, filter_class=_class)[2] for _class in ['factoid', 'list', 'summary', 'yesno']]\n",
    ")    \n",
    "\n",
    "index = np.arange(len(token_sizes))\n",
    "bar_width = 0.1\n",
    "opacity = 0.7\n",
    "\n",
    "for inc_class in ['factoid', 'summary']:\n",
    "    fig, ax = plt.subplots(figsize=(5, 5))\n",
    "    error_config = {'ecolor': '0.3'}\n",
    "\n",
    "    h_f1 = [a-original_factoid_f1_score for a in aggregates[inc_class]['best_run_high_f1']]\n",
    "    rects1 = ax.bar(index + (bar_width*0), h_f1, bar_width, alpha=opacity, color='orange', label= 'highest ' + inc_class +' f1')\n",
    "    \n",
    "    h_mean_f1 = [a-original_mean_f1_score for a in aggregates[inc_class]['best_run_mean_f1']]\n",
    "    rects1 = ax.bar(index + (bar_width*1), h_mean_f1, bar_width, alpha=opacity, color='green', label= 'highest mean f1')\n",
    "    \n",
    "    ax.set_xlabel('Questions Added')\n",
    "    ax.set_ylabel('F1 Score')\n",
    "    ax.set_title('Delta of mean and '+inc_class+' f1 score as the number\\n of '+inc_class+' questions was increased')\n",
    "    ax.set_xticks(index + (bar_width*0.5))\n",
    "    ax.set_xticklabels(token_sizes)\n",
    "    ax.legend()\n",
    "    fig.tight_layout()\n",
    "    plt.show()\n",
    "    fig.savefig('part_2.png')"
   ]
  },
  {
   "cell_type": "code",
   "execution_count": 187,
   "metadata": {},
   "outputs": [],
   "source": [
    "pred_1, pred_2 = load_pickle('predictions.pickle')"
   ]
  },
  {
   "cell_type": "code",
   "execution_count": 195,
   "metadata": {},
   "outputs": [
    {
     "data": {
      "text/plain": [
       "(array(['factoid', 'list', 'summary', 'yesno'], dtype='<U7'),\n",
       " array([16159,  1034, 56657, 20490]))"
      ]
     },
     "execution_count": 195,
     "metadata": {},
     "output_type": "execute_result"
    }
   ],
   "source": [
    "dup_preds = [p1 for p1,p2 in zip(pred_1, pred_2) if p1 == p2]\n",
    "np.unique(dup_preds, return_counts=True)"
   ]
  },
  {
   "cell_type": "code",
   "execution_count": null,
   "metadata": {},
   "outputs": [],
   "source": []
  }
 ],
 "metadata": {
  "kernelspec": {
   "display_name": "Python 3",
   "language": "python",
   "name": "python3"
  },
  "language_info": {
   "codemirror_mode": {
    "name": "ipython",
    "version": 3
   },
   "file_extension": ".py",
   "mimetype": "text/x-python",
   "name": "python",
   "nbconvert_exporter": "python",
   "pygments_lexer": "ipython3",
   "version": "3.6.6"
  }
 },
 "nbformat": 4,
 "nbformat_minor": 2
}
